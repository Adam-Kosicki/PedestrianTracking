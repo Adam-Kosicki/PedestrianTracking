{
 "cells": [
  {
   "cell_type": "code",
   "execution_count": 13,
   "id": "96e7613d",
   "metadata": {},
   "outputs": [],
   "source": [
    "import cv2\n",
    "import pandas as pd\n",
    "from ultralytics import YOLO\n",
    "from tracker import *\n",
    "import torch"
   ]
  },
  {
   "cell_type": "code",
   "execution_count": 14,
   "id": "de10c9ac",
   "metadata": {},
   "outputs": [
    {
     "name": "stdout",
     "output_type": "stream",
     "text": [
      "using cuda device\n"
     ]
    }
   ],
   "source": [
    "device = None\n",
    "if(torch.cuda.is_available()):\n",
    "    device = torch.device(\"cuda\")\n",
    "else:\n",
    "    device = torch.device(\"cpu\")\n",
    "print(\"using\", device, \"device\")"
   ]
  },
  {
   "cell_type": "code",
   "execution_count": 15,
   "id": "b6510bba",
   "metadata": {},
   "outputs": [],
   "source": [
    "model=YOLO('yolov9c.pt')\n",
    "\n",
    "# Use gpu for model\n",
    "model.to(device)\n",
    "torch.cuda.synchronize()\n",
    "class_list = ['person', 'bicycle']\n",
    "# class_list = ['person', 'bicycle', 'car', 'motorcycle', 'airplane', 'bus', 'train', 'truck', 'boat', 'traffic light', 'fire hydrant', 'stop sign', 'parking meter', 'bench', 'bird', 'cat', 'dog', 'horse', 'sheep', 'cow', 'elephant', 'bear', 'zebra', 'giraffe', 'backpack', 'umbrella', 'handbag', 'tie', 'suitcase', 'frisbee', 'skis', 'snowboard', 'sports ball', 'kite', 'baseball bat', 'baseball glove', 'skateboard', 'surfboard', 'tennis racket', 'bottle', 'wine glass', 'cup', 'fork', 'knife', 'spoon', 'bowl', 'banana', 'apple', 'sandwich', 'orange', 'broccoli', 'carrot', 'hot dog', 'pizza', 'donut', 'cake', 'chair', 'couch', 'potted plant', 'bed', 'dining table', 'toilet', 'tv', 'laptop', 'mouse', 'remote', 'keyboard', 'cell phone', 'microwave', 'oven', 'toaster', 'sink', 'refrigerator', 'book', 'clock', 'vase', 'scissors', 'teddy bear', 'hair drier', 'toothbrush']"
   ]
  },
  {
   "cell_type": "code",
   "execution_count": 16,
   "id": "9cadbd3d",
   "metadata": {},
   "outputs": [],
   "source": [
    "tracker=Tracker()\n",
    "count=0"
   ]
  },
  {
   "cell_type": "code",
   "execution_count": 17,
   "id": "07f7ccdc",
   "metadata": {},
   "outputs": [
    {
     "name": "stdout",
     "output_type": "stream",
     "text": [
      "\n",
      "0: 384x640 1 person, 120.5ms\n",
      "Speed: 3.3ms preprocess, 120.5ms inference, 673.4ms postprocess per image at shape (1, 3, 384, 640)\n"
     ]
    },
    {
     "ename": "error",
     "evalue": "OpenCV(4.9.0) /io/opencv/modules/highgui/src/window.cpp:1272: error: (-2:Unspecified error) The function is not implemented. Rebuild the library with Windows, GTK+ 2.x or Cocoa support. If you are on Ubuntu or Debian, install libgtk2.0-dev and pkg-config, then re-run cmake or configure script in function 'cvShowImage'\n",
     "output_type": "error",
     "traceback": [
      "\u001b[0;31m---------------------------------------------------------------------------\u001b[0m",
      "\u001b[0;31merror\u001b[0m                                     Traceback (most recent call last)",
      "Cell \u001b[0;32mIn[17], line 77\u001b[0m\n\u001b[1;32m     62\u001b[0m     red_color \u001b[38;5;241m=\u001b[39m (\u001b[38;5;241m0\u001b[39m, \u001b[38;5;241m0\u001b[39m, \u001b[38;5;241m255\u001b[39m)  \u001b[38;5;66;03m# (B, G, R)   \u001b[39;00m\n\u001b[1;32m     64\u001b[0m \u001b[38;5;66;03m#     # print(down)\u001b[39;00m\n\u001b[1;32m     65\u001b[0m \u001b[38;5;66;03m#     cv2.line(frame,(282,308),(1004,308),red_color,3)  #  starting cordinates and end of line cordinates\u001b[39;00m\n\u001b[1;32m     66\u001b[0m \u001b[38;5;66;03m#     cv2.putText(frame,('red line'),(280,308),cv2.FONT_HERSHEY_SIMPLEX, 0.5, text_color, 1, cv2.LINE_AA) \u001b[39;00m\n\u001b[0;32m   (...)\u001b[0m\n\u001b[1;32m     74\u001b[0m     \u001b[38;5;66;03m# cv2.line(frame,(282,308),(1004,308),red_color,3)  #  starting cordinates and end of line cordinates\u001b[39;00m\n\u001b[1;32m     75\u001b[0m     \u001b[38;5;66;03m# cv2.putText(frame,('red line'),(280,308),cv2.FONT_HERSHEY_SIMPLEX, 0.5, text_color, 1, cv2.LINE_AA)    \u001b[39;00m\n\u001b[0;32m---> 77\u001b[0m     cv2\u001b[38;5;241m.\u001b[39mimshow(\u001b[38;5;124m\"\u001b[39m\u001b[38;5;124mframes\u001b[39m\u001b[38;5;124m\"\u001b[39m, frame)\n\u001b[1;32m     78\u001b[0m     \u001b[38;5;28;01mif\u001b[39;00m cv2\u001b[38;5;241m.\u001b[39mwaitKey(\u001b[38;5;241m1\u001b[39m)\u001b[38;5;241m&\u001b[39m\u001b[38;5;241m0xFF\u001b[39m\u001b[38;5;241m==\u001b[39m\u001b[38;5;241m27\u001b[39m:\n\u001b[1;32m     79\u001b[0m         \u001b[38;5;28;01mbreak\u001b[39;00m\n",
      "\u001b[0;31merror\u001b[0m: OpenCV(4.9.0) /io/opencv/modules/highgui/src/window.cpp:1272: error: (-2:Unspecified error) The function is not implemented. Rebuild the library with Windows, GTK+ 2.x or Cocoa support. If you are on Ubuntu or Debian, install libgtk2.0-dev and pkg-config, then re-run cmake or configure script in function 'cvShowImage'\n"
     ]
    }
   ],
   "source": [
    "cap=cv2.VideoCapture('./sources/ped_sample_vid.mp4')\n",
    "\n",
    "down={}\n",
    "counter_down=set()\n",
    "while True:    \n",
    "    ret,frame = cap.read()\n",
    "    if not ret:\n",
    "        break\n",
    "    count += 1\n",
    "\n",
    "    results=model.predict(frame, classes=[0])\n",
    "\n",
    "    a=results[0].boxes.data\n",
    "    a = a.detach().cpu().numpy()  \n",
    "    px=pd.DataFrame(a).astype(\"float\")\n",
    "    #print(px)\n",
    "    \n",
    "    list=[]\n",
    "             \n",
    "    for index,row in px.iterrows():\n",
    "#        print(row) \n",
    "        x1=int(row[0])\n",
    "        y1=int(row[1])\n",
    "        x2=int(row[2])\n",
    "        y2=int(row[3])\n",
    "        d=int(row[5])\n",
    "        c=class_list[d]\n",
    "        \n",
    "#         if 'car' in c:\n",
    "#             list.append([x1,y1,x2,y2])\n",
    "        list.append([x1,y1,x2,y2])\n",
    "\n",
    "\n",
    "    bbox_id=tracker.update(list)\n",
    "    #print(bbox_id)\n",
    "    for bbox in bbox_id:\n",
    "        x3,y3,x4,y4,id=bbox\n",
    "        cx=int(x3+x4)//2\n",
    "        cy=int(y3+y4)//2\n",
    "        cv2.circle(frame,(cx,cy),4,(0,0,255),-1) #draw ceter points of bounding box\n",
    "        cv2.rectangle(frame, (x3, y3), (x4, y4), (0, 255, 0), 2)  # Draw bounding box\n",
    "        cv2.putText(frame,str(id),(cx,cy),cv2.FONT_HERSHEY_COMPLEX,0.8,(0,255,255),2)\n",
    "\n",
    "\n",
    "\n",
    "        y = 308\n",
    "        offset = 7\n",
    "    \n",
    "#         ''' condition for red line '''\n",
    "#         if y < (cy + offset) and y > (cy - offset):\n",
    "#           ''' this if condition is putting the id and the circle on the object when the center of the object touched the red line.'''\n",
    "          \n",
    "#           down[id]=cy   #cy is current position. saving the ids of the cars which are touching the red line first. \n",
    "#           #This will tell us the travelling direction of the car.\n",
    "#           if id in down:         \n",
    "#            cv2.circle(frame,(cx,cy),4,(0,0,255),-1)\n",
    "#            cv2.putText(frame,str(id),(cx,cy),cv2.FONT_HERSHEY_COMPLEX,0.8,(0,255,255),2)\n",
    "#            counter_down.add(id) \n",
    "\n",
    "    # # line\n",
    "    text_color = (255,255,255)  # white color for text\n",
    "    red_color = (0, 0, 255)  # (B, G, R)   \n",
    "    \n",
    "#     # print(down)\n",
    "#     cv2.line(frame,(282,308),(1004,308),red_color,3)  #  starting cordinates and end of line cordinates\n",
    "#     cv2.putText(frame,('red line'),(280,308),cv2.FONT_HERSHEY_SIMPLEX, 0.5, text_color, 1, cv2.LINE_AA) \n",
    "\n",
    "\n",
    "#     downwards = (len(counter_down))\n",
    "#     cv2.putText(frame,('going down - ')+ str(downwards),(60,40),cv2.FONT_HERSHEY_SIMPLEX, 0.5, red_color, 1, cv2.LINE_AA) \n",
    "    \n",
    "\n",
    "\n",
    "    # cv2.line(frame,(282,308),(1004,308),red_color,3)  #  starting cordinates and end of line cordinates\n",
    "    # cv2.putText(frame,('red line'),(280,308),cv2.FONT_HERSHEY_SIMPLEX, 0.5, text_color, 1, cv2.LINE_AA)    \n",
    "    \n",
    "    cv2.imshow(\"frames\", frame)\n",
    "    if cv2.waitKey(1)&0xFF==27:\n",
    "        break\n",
    "\n",
    "print(down)\n",
    "print(count)\n",
    "print(counter_down)\n",
    "        \n",
    "torch.cuda.synchronize()\n",
    "cap.release()\n",
    "cv2.destroyAllWindows()"
   ]
  },
  {
   "cell_type": "code",
   "execution_count": null,
   "id": "d38ee7a8",
   "metadata": {},
   "outputs": [],
   "source": [
    "torch.cuda.synchronize()\n",
    "cap.release()\n",
    "cv2.destroyAllWindows()"
   ]
  },
  {
   "cell_type": "code",
   "execution_count": null,
   "id": "45c0f36a",
   "metadata": {},
   "outputs": [],
   "source": []
  }
 ],
 "metadata": {
  "kernelspec": {
   "display_name": "Python 3 (ipykernel)",
   "language": "python",
   "name": "python3"
  },
  "language_info": {
   "codemirror_mode": {
    "name": "ipython",
    "version": 3
   },
   "file_extension": ".py",
   "mimetype": "text/x-python",
   "name": "python",
   "nbconvert_exporter": "python",
   "pygments_lexer": "ipython3",
   "version": "3.11.9"
  }
 },
 "nbformat": 4,
 "nbformat_minor": 5
}
